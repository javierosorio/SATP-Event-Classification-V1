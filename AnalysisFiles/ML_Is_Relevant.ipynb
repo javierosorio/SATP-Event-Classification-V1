{
 "cells": [
  {
   "cell_type": "code",
   "execution_count": 1,
   "metadata": {},
   "outputs": [],
   "source": [
    "import pandas as pd\n",
    "import matplotlib.pyplot as plt\n",
    "import seaborn as sns\n",
    "import numpy as np\n",
    "import csv\n",
    "import collections\n",
    "sns.set(style=\"whitegrid\")\n",
    "sns.set(rc={'figure.figsize':(10,5)})\n",
    "plt.style.use('ggplot')"
   ]
  },
  {
   "cell_type": "code",
   "execution_count": 2,
   "metadata": {},
   "outputs": [],
   "source": [
    "import numpy as np\n",
    "from sklearn.naive_bayes import MultinomialNB\n",
    "from sklearn.svm import SVC\n",
    "from sklearn.feature_extraction.text import CountVectorizer, TfidfVectorizer\n",
    "import pandas as pd\n",
    "from collections import Counter\n",
    "from sklearn.model_selection import train_test_split\n",
    "from sklearn.feature_extraction.text import TfidfTransformer\n",
    "from sklearn.metrics import classification_report"
   ]
  },
  {
   "cell_type": "code",
   "execution_count": 3,
   "metadata": {},
   "outputs": [],
   "source": [
    "import re\n",
    "import nltk\n",
    "from nltk.corpus import stopwords\n",
    "from nltk.stem import PorterStemmer\n",
    "stop_words = set(stopwords.words('english'))\n",
    "stemer = PorterStemmer()"
   ]
  },
  {
   "cell_type": "code",
   "execution_count": 6,
   "metadata": {},
   "outputs": [
    {
     "data": {
      "text/html": [
       "<div>\n",
       "<style scoped>\n",
       "    .dataframe tbody tr th:only-of-type {\n",
       "        vertical-align: middle;\n",
       "    }\n",
       "\n",
       "    .dataframe tbody tr th {\n",
       "        vertical-align: top;\n",
       "    }\n",
       "\n",
       "    .dataframe thead th {\n",
       "        text-align: right;\n",
       "    }\n",
       "</style>\n",
       "<table border=\"1\" class=\"dataframe\">\n",
       "  <thead>\n",
       "    <tr style=\"text-align: right;\">\n",
       "      <th></th>\n",
       "      <th>is_relevant</th>\n",
       "      <th>news</th>\n",
       "    </tr>\n",
       "  </thead>\n",
       "  <tbody>\n",
       "    <tr>\n",
       "      <td>0</td>\n",
       "      <td>True</td>\n",
       "      <td>Two Lashkar e Jhangvi LeJ militants Asim alias...</td>\n",
       "    </tr>\n",
       "    <tr>\n",
       "      <td>1</td>\n",
       "      <td>True</td>\n",
       "      <td>The Commander Southern Command Lieutenant Gene...</td>\n",
       "    </tr>\n",
       "    <tr>\n",
       "      <td>2</td>\n",
       "      <td>True</td>\n",
       "      <td>Meanwhile the underground organization Manipur...</td>\n",
       "    </tr>\n",
       "    <tr>\n",
       "      <td>3</td>\n",
       "      <td>True</td>\n",
       "      <td>Islamic State IS in the latest issue of its on...</td>\n",
       "    </tr>\n",
       "    <tr>\n",
       "      <td>4</td>\n",
       "      <td>True</td>\n",
       "      <td>A senior Muttahida Qaumi Movement MQM worker i...</td>\n",
       "    </tr>\n",
       "    <tr>\n",
       "      <td>5</td>\n",
       "      <td>True</td>\n",
       "      <td>The ongoing construction work of an interstate...</td>\n",
       "    </tr>\n",
       "    <tr>\n",
       "      <td>6</td>\n",
       "      <td>True</td>\n",
       "      <td>Two civilians were injured when unidentified a...</td>\n",
       "    </tr>\n",
       "    <tr>\n",
       "      <td>7</td>\n",
       "      <td>True</td>\n",
       "      <td>More than a week after a woman Communist Party...</td>\n",
       "    </tr>\n",
       "    <tr>\n",
       "      <td>8</td>\n",
       "      <td>True</td>\n",
       "      <td>Three boys sustained injuries when a landmine ...</td>\n",
       "    </tr>\n",
       "    <tr>\n",
       "      <td>9</td>\n",
       "      <td>True</td>\n",
       "      <td>Unidentified militants shot dead a Frontier Co...</td>\n",
       "    </tr>\n",
       "  </tbody>\n",
       "</table>\n",
       "</div>"
      ],
      "text/plain": [
       "   is_relevant                                               news\n",
       "0         True  Two Lashkar e Jhangvi LeJ militants Asim alias...\n",
       "1         True  The Commander Southern Command Lieutenant Gene...\n",
       "2         True  Meanwhile the underground organization Manipur...\n",
       "3         True  Islamic State IS in the latest issue of its on...\n",
       "4         True  A senior Muttahida Qaumi Movement MQM worker i...\n",
       "5         True  The ongoing construction work of an interstate...\n",
       "6         True  Two civilians were injured when unidentified a...\n",
       "7         True  More than a week after a woman Communist Party...\n",
       "8         True  Three boys sustained injuries when a landmine ...\n",
       "9         True  Unidentified militants shot dead a Frontier Co..."
      ]
     },
     "execution_count": 6,
     "metadata": {},
     "output_type": "execute_result"
    }
   ],
   "source": [
    "input_path = '/Users/shahreenshahjahanpsyche/Desktop/SATP-Event-Classification/Data_MachineLearning/is_relevant_data.csv'\n",
    "df = pd.read_csv(input_path, header=[0])\n",
    "df.head(10)"
   ]
  },
  {
   "cell_type": "code",
   "execution_count": 7,
   "metadata": {},
   "outputs": [],
   "source": [
    "def model(df_action, action_type):\n",
    "    \n",
    "    counter = Counter(df_action[action_type].tolist())\n",
    "    top_10_varieties = {i[0]: idx for idx, i in enumerate(counter.most_common(10))}\n",
    "    df_action = df_action[df_action[action_type].map(lambda x: x in top_10_varieties)]\n",
    "    \n",
    "    description_list = df_action['news'].tolist()\n",
    "    varietal_list = [top_10_varieties[i] for i in df_action[action_type].tolist()]\n",
    "    varietal_list = np.array(varietal_list)\n",
    "    count_vect = CountVectorizer()\n",
    "    x_train_counts = count_vect.fit_transform(description_list)\n",
    "    tfidf_transformer = TfidfTransformer()\n",
    "    x_train_tfidf = tfidf_transformer.fit_transform(x_train_counts)\n",
    "    train_x, test_x, train_y, test_y = train_test_split(x_train_tfidf, varietal_list, test_size=0.3)\n",
    "    \n",
    "    clf = MultinomialNB().fit(train_x, train_y)\n",
    "    print(\"Naive bayes\")\n",
    "    y_score = clf.predict(test_x)\n",
    "    print(classification_report(test_y, y_score))\n",
    "    \n",
    "    print(\"SVM\")\n",
    "    clf = SVC(kernel='linear').fit(train_x, train_y)\n",
    "    y_score = clf.predict(test_x)\n",
    "    print(classification_report(test_y, y_score))"
   ]
  },
  {
   "cell_type": "code",
   "execution_count": 10,
   "metadata": {},
   "outputs": [
    {
     "data": {
      "text/plain": [
       "<matplotlib.axes._subplots.AxesSubplot at 0x7fac4b548b50>"
      ]
     },
     "execution_count": 10,
     "metadata": {},
     "output_type": "execute_result"
    },
    {
     "data": {
      "image/png": "[encoded data removed]",
      "text/plain": [
       "<Figure size 432x288 with 1 Axes>"
      ]
     },
     "metadata": {
      "needs_background": "light"
     },
     "output_type": "display_data"
    }
   ],
   "source": [
    "fig, ax = plt.subplots()\n",
    "df['is_relevant'].value_counts().plot(ax=ax, kind='bar')"
   ]
  },
  {
   "cell_type": "code",
   "execution_count": 11,
   "metadata": {},
   "outputs": [
    {
     "name": "stdout",
     "output_type": "stream",
     "text": [
      "Naive bayes\n",
      "              precision    recall  f1-score   support\n",
      "\n",
      "           0       0.81      1.00      0.89      1450\n",
      "           1       1.00      0.00      0.01       350\n",
      "\n",
      "    accuracy                           0.81      1800\n",
      "   macro avg       0.90      0.50      0.45      1800\n",
      "weighted avg       0.84      0.81      0.72      1800\n",
      "\n",
      "SVM\n",
      "              precision    recall  f1-score   support\n",
      "\n",
      "           0       0.93      0.96      0.95      1450\n",
      "           1       0.82      0.71      0.76       350\n",
      "\n",
      "    accuracy                           0.91      1800\n",
      "   macro avg       0.88      0.83      0.85      1800\n",
      "weighted avg       0.91      0.91      0.91      1800\n",
      "\n"
     ]
    }
   ],
   "source": [
    "model(df, 'is_relevant')"
   ]
  },
  {
   "cell_type": "code",
   "execution_count": null,
   "metadata": {},
   "outputs": [],
   "source": []
  }
 ],
 "metadata": {
  "kernelspec": {
   "display_name": "Python 3",
   "language": "python",
   "name": "python3"
  },
  "language_info": {
   "codemirror_mode": {
    "name": "ipython",
    "version": 3
   },
   "file_extension": ".py",
   "mimetype": "text/x-python",
   "name": "python",
   "nbconvert_exporter": "python",
   "pygments_lexer": "ipython3",
   "version": "3.7.4"
  }
 },
 "nbformat": 4,
 "nbformat_minor": 2
}
