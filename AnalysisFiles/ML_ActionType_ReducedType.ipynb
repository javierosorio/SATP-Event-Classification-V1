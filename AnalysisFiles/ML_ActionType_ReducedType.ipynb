{
 "cells": [
  {
   "cell_type": "code",
   "execution_count": 1,
   "metadata": {},
   "outputs": [],
   "source": [
    "import pandas as pd\n",
    "import matplotlib.pyplot as plt\n",
    "import seaborn as sns\n",
    "import numpy as np\n",
    "import csv\n",
    "import collections\n",
    "sns.set(style=\"whitegrid\")\n",
    "sns.set(rc={'figure.figsize':(10,5)})\n",
    "plt.style.use('ggplot')"
   ]
  },
  {
   "cell_type": "code",
   "execution_count": 2,
   "metadata": {},
   "outputs": [],
   "source": [
    "import numpy as np\n",
    "from sklearn.naive_bayes import MultinomialNB\n",
    "from sklearn.svm import SVC\n",
    "from sklearn.feature_extraction.text import CountVectorizer, TfidfVectorizer\n",
    "import pandas as pd\n",
    "from collections import Counter\n",
    "from sklearn.model_selection import train_test_split\n",
    "from sklearn.feature_extraction.text import TfidfTransformer\n",
    "from sklearn.metrics import classification_report"
   ]
  },
  {
   "cell_type": "code",
   "execution_count": 3,
   "metadata": {},
   "outputs": [],
   "source": [
    "import re\n",
    "import nltk\n",
    "from nltk.corpus import stopwords\n",
    "from nltk.stem import PorterStemmer\n",
    "stop_words = set(stopwords.words('english'))\n",
    "stemer = PorterStemmer()"
   ]
  },
  {
   "cell_type": "code",
   "execution_count": 4,
   "metadata": {},
   "outputs": [
    {
     "data": {
      "text/html": [
       "<div>\n",
       "<style scoped>\n",
       "    .dataframe tbody tr th:only-of-type {\n",
       "        vertical-align: middle;\n",
       "    }\n",
       "\n",
       "    .dataframe tbody tr th {\n",
       "        vertical-align: top;\n",
       "    }\n",
       "\n",
       "    .dataframe thead th {\n",
       "        text-align: right;\n",
       "    }\n",
       "</style>\n",
       "<table border=\"1\" class=\"dataframe\">\n",
       "  <thead>\n",
       "    <tr style=\"text-align: right;\">\n",
       "      <th></th>\n",
       "      <th>news</th>\n",
       "      <th>Assassination</th>\n",
       "      <th>Hijacking</th>\n",
       "      <th>Kidnapping</th>\n",
       "      <th>Barricade Incident</th>\n",
       "      <th>Bombing/Explosion</th>\n",
       "      <th>Armed Assault</th>\n",
       "      <th>Unarmed Assault</th>\n",
       "      <th>Facility/Infrastructure Attack</th>\n",
       "      <th>Unknown</th>\n",
       "    </tr>\n",
       "  </thead>\n",
       "  <tbody>\n",
       "    <tr>\n",
       "      <td>0</td>\n",
       "      <td>Two Lashkar e Jhangvi LeJ militants Asim alias...</td>\n",
       "      <td>False</td>\n",
       "      <td>False</td>\n",
       "      <td>False</td>\n",
       "      <td>False</td>\n",
       "      <td>False</td>\n",
       "      <td>True</td>\n",
       "      <td>False</td>\n",
       "      <td>False</td>\n",
       "      <td>False</td>\n",
       "    </tr>\n",
       "    <tr>\n",
       "      <td>1</td>\n",
       "      <td>The Commander Southern Command Lieutenant Gene...</td>\n",
       "      <td>False</td>\n",
       "      <td>False</td>\n",
       "      <td>False</td>\n",
       "      <td>False</td>\n",
       "      <td>False</td>\n",
       "      <td>False</td>\n",
       "      <td>False</td>\n",
       "      <td>False</td>\n",
       "      <td>True</td>\n",
       "    </tr>\n",
       "    <tr>\n",
       "      <td>2</td>\n",
       "      <td>Meanwhile the underground organization Manipur...</td>\n",
       "      <td>False</td>\n",
       "      <td>False</td>\n",
       "      <td>False</td>\n",
       "      <td>False</td>\n",
       "      <td>True</td>\n",
       "      <td>False</td>\n",
       "      <td>False</td>\n",
       "      <td>False</td>\n",
       "      <td>False</td>\n",
       "    </tr>\n",
       "    <tr>\n",
       "      <td>3</td>\n",
       "      <td>Islamic State IS in the latest issue of its on...</td>\n",
       "      <td>False</td>\n",
       "      <td>False</td>\n",
       "      <td>False</td>\n",
       "      <td>False</td>\n",
       "      <td>False</td>\n",
       "      <td>True</td>\n",
       "      <td>False</td>\n",
       "      <td>False</td>\n",
       "      <td>False</td>\n",
       "    </tr>\n",
       "    <tr>\n",
       "      <td>4</td>\n",
       "      <td>A senior Muttahida Qaumi Movement MQM worker i...</td>\n",
       "      <td>True</td>\n",
       "      <td>False</td>\n",
       "      <td>False</td>\n",
       "      <td>False</td>\n",
       "      <td>False</td>\n",
       "      <td>False</td>\n",
       "      <td>False</td>\n",
       "      <td>False</td>\n",
       "      <td>False</td>\n",
       "    </tr>\n",
       "    <tr>\n",
       "      <td>5</td>\n",
       "      <td>The ongoing construction work of an interstate...</td>\n",
       "      <td>False</td>\n",
       "      <td>False</td>\n",
       "      <td>False</td>\n",
       "      <td>False</td>\n",
       "      <td>False</td>\n",
       "      <td>False</td>\n",
       "      <td>False</td>\n",
       "      <td>True</td>\n",
       "      <td>False</td>\n",
       "    </tr>\n",
       "    <tr>\n",
       "      <td>6</td>\n",
       "      <td>Two civilians were injured when unidentified a...</td>\n",
       "      <td>False</td>\n",
       "      <td>False</td>\n",
       "      <td>False</td>\n",
       "      <td>False</td>\n",
       "      <td>False</td>\n",
       "      <td>True</td>\n",
       "      <td>False</td>\n",
       "      <td>False</td>\n",
       "      <td>False</td>\n",
       "    </tr>\n",
       "    <tr>\n",
       "      <td>7</td>\n",
       "      <td>More than a week after a woman Communist Party...</td>\n",
       "      <td>False</td>\n",
       "      <td>False</td>\n",
       "      <td>False</td>\n",
       "      <td>False</td>\n",
       "      <td>False</td>\n",
       "      <td>True</td>\n",
       "      <td>False</td>\n",
       "      <td>False</td>\n",
       "      <td>False</td>\n",
       "    </tr>\n",
       "    <tr>\n",
       "      <td>8</td>\n",
       "      <td>Three boys sustained injuries when a landmine ...</td>\n",
       "      <td>False</td>\n",
       "      <td>False</td>\n",
       "      <td>False</td>\n",
       "      <td>False</td>\n",
       "      <td>True</td>\n",
       "      <td>False</td>\n",
       "      <td>False</td>\n",
       "      <td>False</td>\n",
       "      <td>False</td>\n",
       "    </tr>\n",
       "    <tr>\n",
       "      <td>9</td>\n",
       "      <td>Unidentified militants shot dead a Frontier Co...</td>\n",
       "      <td>True</td>\n",
       "      <td>False</td>\n",
       "      <td>False</td>\n",
       "      <td>False</td>\n",
       "      <td>False</td>\n",
       "      <td>False</td>\n",
       "      <td>False</td>\n",
       "      <td>False</td>\n",
       "      <td>False</td>\n",
       "    </tr>\n",
       "  </tbody>\n",
       "</table>\n",
       "</div>"
      ],
      "text/plain": [
       "                                                news  Assassination  \\\n",
       "0  Two Lashkar e Jhangvi LeJ militants Asim alias...          False   \n",
       "1  The Commander Southern Command Lieutenant Gene...          False   \n",
       "2  Meanwhile the underground organization Manipur...          False   \n",
       "3  Islamic State IS in the latest issue of its on...          False   \n",
       "4  A senior Muttahida Qaumi Movement MQM worker i...           True   \n",
       "5  The ongoing construction work of an interstate...          False   \n",
       "6  Two civilians were injured when unidentified a...          False   \n",
       "7  More than a week after a woman Communist Party...          False   \n",
       "8  Three boys sustained injuries when a landmine ...          False   \n",
       "9  Unidentified militants shot dead a Frontier Co...           True   \n",
       "\n",
       "   Hijacking  Kidnapping  Barricade Incident  Bombing/Explosion  \\\n",
       "0      False       False               False              False   \n",
       "1      False       False               False              False   \n",
       "2      False       False               False               True   \n",
       "3      False       False               False              False   \n",
       "4      False       False               False              False   \n",
       "5      False       False               False              False   \n",
       "6      False       False               False              False   \n",
       "7      False       False               False              False   \n",
       "8      False       False               False               True   \n",
       "9      False       False               False              False   \n",
       "\n",
       "   Armed Assault  Unarmed Assault  Facility/Infrastructure Attack  Unknown  \n",
       "0           True            False                           False    False  \n",
       "1          False            False                           False     True  \n",
       "2          False            False                           False    False  \n",
       "3           True            False                           False    False  \n",
       "4          False            False                           False    False  \n",
       "5          False            False                            True    False  \n",
       "6           True            False                           False    False  \n",
       "7           True            False                           False    False  \n",
       "8          False            False                           False    False  \n",
       "9          False            False                           False    False  "
      ]
     },
     "execution_count": 4,
     "metadata": {},
     "output_type": "execute_result"
    }
   ],
   "source": [
    "COLUMNS = ['news', 'Assassination','Hijacking','Kidnapping','Barricade Incident','Bombing/Explosion','Armed Assault','Unarmed Assault','Facility/Infrastructure Attack','Unknown']\n",
    "input_path = '/Users/shahreenshahjahanpsyche/Desktop/SATP-Event-Classification/Data_MachineLearning/action_type_data.csv'\n",
    "df = pd.read_csv(input_path, header=[0])\n",
    "df.head(10)\n"
   ]
  },
  {
   "cell_type": "code",
   "execution_count": 5,
   "metadata": {},
   "outputs": [
    {
     "data": {
      "text/html": [
       "<div>\n",
       "<style scoped>\n",
       "    .dataframe tbody tr th:only-of-type {\n",
       "        vertical-align: middle;\n",
       "    }\n",
       "\n",
       "    .dataframe tbody tr th {\n",
       "        vertical-align: top;\n",
       "    }\n",
       "\n",
       "    .dataframe thead th {\n",
       "        text-align: right;\n",
       "    }\n",
       "</style>\n",
       "<table border=\"1\" class=\"dataframe\">\n",
       "  <thead>\n",
       "    <tr style=\"text-align: right;\">\n",
       "      <th></th>\n",
       "      <th>news</th>\n",
       "      <th>Kidnapping</th>\n",
       "      <th>Bombing/Explosion</th>\n",
       "      <th>Armed Assault</th>\n",
       "      <th>Other</th>\n",
       "    </tr>\n",
       "  </thead>\n",
       "  <tbody>\n",
       "    <tr>\n",
       "      <td>0</td>\n",
       "      <td>Two Lashkar e Jhangvi LeJ militants Asim alias...</td>\n",
       "      <td>False</td>\n",
       "      <td>False</td>\n",
       "      <td>True</td>\n",
       "      <td>False</td>\n",
       "    </tr>\n",
       "    <tr>\n",
       "      <td>1</td>\n",
       "      <td>The Commander Southern Command Lieutenant Gene...</td>\n",
       "      <td>False</td>\n",
       "      <td>False</td>\n",
       "      <td>False</td>\n",
       "      <td>True</td>\n",
       "    </tr>\n",
       "    <tr>\n",
       "      <td>2</td>\n",
       "      <td>Meanwhile the underground organization Manipur...</td>\n",
       "      <td>False</td>\n",
       "      <td>True</td>\n",
       "      <td>False</td>\n",
       "      <td>False</td>\n",
       "    </tr>\n",
       "    <tr>\n",
       "      <td>3</td>\n",
       "      <td>Islamic State IS in the latest issue of its on...</td>\n",
       "      <td>False</td>\n",
       "      <td>False</td>\n",
       "      <td>True</td>\n",
       "      <td>False</td>\n",
       "    </tr>\n",
       "    <tr>\n",
       "      <td>4</td>\n",
       "      <td>A senior Muttahida Qaumi Movement MQM worker i...</td>\n",
       "      <td>False</td>\n",
       "      <td>False</td>\n",
       "      <td>False</td>\n",
       "      <td>True</td>\n",
       "    </tr>\n",
       "    <tr>\n",
       "      <td>5</td>\n",
       "      <td>The ongoing construction work of an interstate...</td>\n",
       "      <td>False</td>\n",
       "      <td>False</td>\n",
       "      <td>False</td>\n",
       "      <td>True</td>\n",
       "    </tr>\n",
       "    <tr>\n",
       "      <td>6</td>\n",
       "      <td>Two civilians were injured when unidentified a...</td>\n",
       "      <td>False</td>\n",
       "      <td>False</td>\n",
       "      <td>True</td>\n",
       "      <td>False</td>\n",
       "    </tr>\n",
       "    <tr>\n",
       "      <td>7</td>\n",
       "      <td>More than a week after a woman Communist Party...</td>\n",
       "      <td>False</td>\n",
       "      <td>False</td>\n",
       "      <td>True</td>\n",
       "      <td>False</td>\n",
       "    </tr>\n",
       "    <tr>\n",
       "      <td>8</td>\n",
       "      <td>Three boys sustained injuries when a landmine ...</td>\n",
       "      <td>False</td>\n",
       "      <td>True</td>\n",
       "      <td>False</td>\n",
       "      <td>False</td>\n",
       "    </tr>\n",
       "    <tr>\n",
       "      <td>9</td>\n",
       "      <td>Unidentified militants shot dead a Frontier Co...</td>\n",
       "      <td>False</td>\n",
       "      <td>False</td>\n",
       "      <td>False</td>\n",
       "      <td>True</td>\n",
       "    </tr>\n",
       "  </tbody>\n",
       "</table>\n",
       "</div>"
      ],
      "text/plain": [
       "                                                news  Kidnapping  \\\n",
       "0  Two Lashkar e Jhangvi LeJ militants Asim alias...       False   \n",
       "1  The Commander Southern Command Lieutenant Gene...       False   \n",
       "2  Meanwhile the underground organization Manipur...       False   \n",
       "3  Islamic State IS in the latest issue of its on...       False   \n",
       "4  A senior Muttahida Qaumi Movement MQM worker i...       False   \n",
       "5  The ongoing construction work of an interstate...       False   \n",
       "6  Two civilians were injured when unidentified a...       False   \n",
       "7  More than a week after a woman Communist Party...       False   \n",
       "8  Three boys sustained injuries when a landmine ...       False   \n",
       "9  Unidentified militants shot dead a Frontier Co...       False   \n",
       "\n",
       "   Bombing/Explosion  Armed Assault  Other  \n",
       "0              False           True  False  \n",
       "1              False          False   True  \n",
       "2               True          False  False  \n",
       "3              False           True  False  \n",
       "4              False          False   True  \n",
       "5              False          False   True  \n",
       "6              False           True  False  \n",
       "7              False           True  False  \n",
       "8               True          False  False  \n",
       "9              False          False   True  "
      ]
     },
     "execution_count": 5,
     "metadata": {},
     "output_type": "execute_result"
    }
   ],
   "source": [
    "def model(df_action, action_type):\n",
    "    \n",
    "    counter = Counter(df_action[action_type].tolist())\n",
    "    top_10_varieties = {i[0]: idx for idx, i in enumerate(counter.most_common(10))}\n",
    "    df_action = df_action[df_action[action_type].map(lambda x: x in top_10_varieties)]\n",
    "    \n",
    "    description_list = df_action['news'].tolist()\n",
    "    varietal_list = [top_10_varieties[i] for i in df_action[action_type].tolist()]\n",
    "    varietal_list = np.array(varietal_list)\n",
    "    count_vect = CountVectorizer()\n",
    "    x_train_counts = count_vect.fit_transform(description_list)\n",
    "    tfidf_transformer = TfidfTransformer()\n",
    "    x_train_tfidf = tfidf_transformer.fit_transform(x_train_counts)\n",
    "    train_x, test_x, train_y, test_y = train_test_split(x_train_tfidf, varietal_list, test_size=0.3)\n",
    "    \n",
    "    clf = MultinomialNB().fit(train_x, train_y)\n",
    "    print(\"Naive bayes\")\n",
    "    y_score = clf.predict(test_x)\n",
    "    print(classification_report(test_y, y_score))\n",
    "    \n",
    "    print(\"SVM\")\n",
    "    clf = SVC(kernel='linear').fit(train_x, train_y)\n",
    "    y_score = clf.predict(test_x)\n",
    "    print(classification_report(test_y, y_score))\n",
    "\n",
    "cols_m1 = ['Assassination', 'Unarmed Assault', 'Facility/Infrastructure Attack', 'Unknown']\n",
    "cols_m2 = ['Hijacking', 'Barricade Incident', 'Kidnapping']\n",
    "\n",
    "def merge(data, cols):\n",
    "    result = False\n",
    "    for i in cols:\n",
    "        result = data[i] or result\n",
    "    return result\n",
    "\n",
    "\n",
    "df['Other'] = df.apply(lambda row: merge(row, cols_m1), axis=1)\n",
    "df['Kidnapping'] = df.apply(lambda row: merge(row, cols_m2), axis=1)\n",
    "\n",
    "REDUCED_COLS = ['news', 'Kidnapping','Bombing/Explosion','Armed Assault', 'Other']\n",
    "df = df.loc[:, REDUCED_COLS]\n",
    "df.head(10)\n",
    "    "
   ]
  },
  {
   "cell_type": "markdown",
   "metadata": {},
   "source": [
    "# Kidnapping"
   ]
  },
  {
   "cell_type": "code",
   "execution_count": 6,
   "metadata": {},
   "outputs": [
    {
     "data": {
      "text/plain": [
       "<matplotlib.axes._subplots.AxesSubplot at 0x7ffa3e428850>"
      ]
     },
     "execution_count": 6,
     "metadata": {},
     "output_type": "execute_result"
    },
    {
     "data": {
      "image/png": "[encoded data removed]",
      "text/plain": [
       "<Figure size 432x288 with 1 Axes>"
      ]
     },
     "metadata": {
      "needs_background": "light"
     },
     "output_type": "display_data"
    }
   ],
   "source": [
    "fig, ax = plt.subplots()\n",
    "df['Kidnapping'].value_counts().plot(ax=ax, kind='bar')"
   ]
  },
  {
   "cell_type": "code",
   "execution_count": 7,
   "metadata": {},
   "outputs": [
    {
     "name": "stdout",
     "output_type": "stream",
     "text": [
      "Naive bayes\n",
      "              precision    recall  f1-score   support\n",
      "\n",
      "           0       0.91      1.00      0.95       319\n",
      "           1       0.00      0.00      0.00        32\n",
      "\n",
      "    accuracy                           0.91       351\n",
      "   macro avg       0.45      0.50      0.48       351\n",
      "weighted avg       0.83      0.91      0.87       351\n",
      "\n",
      "SVM\n"
     ]
    },
    {
     "name": "stderr",
     "output_type": "stream",
     "text": [
      "/Users/shahreenshahjahanpsyche/opt/anaconda3/lib/python3.7/site-packages/sklearn/metrics/classification.py:1437: UndefinedMetricWarning: Precision and F-score are ill-defined and being set to 0.0 in labels with no predicted samples.\n",
      "  'precision', 'predicted', average, warn_for)\n"
     ]
    },
    {
     "name": "stdout",
     "output_type": "stream",
     "text": [
      "              precision    recall  f1-score   support\n",
      "\n",
      "           0       0.95      0.99      0.97       319\n",
      "           1       0.84      0.50      0.63        32\n",
      "\n",
      "    accuracy                           0.95       351\n",
      "   macro avg       0.90      0.75      0.80       351\n",
      "weighted avg       0.94      0.95      0.94       351\n",
      "\n"
     ]
    }
   ],
   "source": [
    "model(df, 'Kidnapping')"
   ]
  },
  {
   "cell_type": "markdown",
   "metadata": {},
   "source": [
    "# Bombing/Explosion"
   ]
  },
  {
   "cell_type": "code",
   "execution_count": 8,
   "metadata": {},
   "outputs": [
    {
     "data": {
      "text/plain": [
       "<matplotlib.axes._subplots.AxesSubplot at 0x7ffa3f63b250>"
      ]
     },
     "execution_count": 8,
     "metadata": {},
     "output_type": "execute_result"
    },
    {
     "data": {
      "image/png": "[encoded data removed]",
      "text/plain": [
       "<Figure size 432x288 with 1 Axes>"
      ]
     },
     "metadata": {
      "needs_background": "light"
     },
     "output_type": "display_data"
    }
   ],
   "source": [
    "fig, ax = plt.subplots()\n",
    "df['Bombing/Explosion'].value_counts().plot(ax=ax, kind='bar')"
   ]
  },
  {
   "cell_type": "code",
   "execution_count": 9,
   "metadata": {},
   "outputs": [
    {
     "name": "stdout",
     "output_type": "stream",
     "text": [
      "Naive bayes\n",
      "              precision    recall  f1-score   support\n",
      "\n",
      "           0       0.73      1.00      0.84       236\n",
      "           1       1.00      0.24      0.39       115\n",
      "\n",
      "    accuracy                           0.75       351\n",
      "   macro avg       0.87      0.62      0.62       351\n",
      "weighted avg       0.82      0.75      0.70       351\n",
      "\n",
      "SVM\n",
      "              precision    recall  f1-score   support\n",
      "\n",
      "           0       0.91      0.97      0.94       236\n",
      "           1       0.94      0.81      0.87       115\n",
      "\n",
      "    accuracy                           0.92       351\n",
      "   macro avg       0.93      0.89      0.91       351\n",
      "weighted avg       0.92      0.92      0.92       351\n",
      "\n"
     ]
    }
   ],
   "source": [
    "model(df, 'Bombing/Explosion')"
   ]
  },
  {
   "cell_type": "markdown",
   "metadata": {},
   "source": [
    "# Armed Assault"
   ]
  },
  {
   "cell_type": "code",
   "execution_count": 10,
   "metadata": {},
   "outputs": [
    {
     "data": {
      "text/plain": [
       "<matplotlib.axes._subplots.AxesSubplot at 0x7ffa3f7cacd0>"
      ]
     },
     "execution_count": 10,
     "metadata": {},
     "output_type": "execute_result"
    },
    {
     "data": {
      "image/png": "[encoded data removed]",
      "text/plain": [
       "<Figure size 432x288 with 1 Axes>"
      ]
     },
     "metadata": {
      "needs_background": "light"
     },
     "output_type": "display_data"
    }
   ],
   "source": [
    "fig, ax = plt.subplots()\n",
    "df['Armed Assault'].value_counts().plot(ax=ax, kind='bar')"
   ]
  },
  {
   "cell_type": "code",
   "execution_count": 11,
   "metadata": {},
   "outputs": [
    {
     "name": "stdout",
     "output_type": "stream",
     "text": [
      "Naive bayes\n",
      "              precision    recall  f1-score   support\n",
      "\n",
      "           0       0.74      0.96      0.83       205\n",
      "           1       0.90      0.53      0.66       146\n",
      "\n",
      "    accuracy                           0.78       351\n",
      "   macro avg       0.82      0.74      0.75       351\n",
      "weighted avg       0.80      0.78      0.76       351\n",
      "\n",
      "SVM\n",
      "              precision    recall  f1-score   support\n",
      "\n",
      "           0       0.87      0.88      0.88       205\n",
      "           1       0.83      0.82      0.82       146\n",
      "\n",
      "    accuracy                           0.85       351\n",
      "   macro avg       0.85      0.85      0.85       351\n",
      "weighted avg       0.85      0.85      0.85       351\n",
      "\n"
     ]
    }
   ],
   "source": [
    "model(df, 'Armed Assault')"
   ]
  },
  {
   "cell_type": "markdown",
   "metadata": {},
   "source": [
    "# Other"
   ]
  },
  {
   "cell_type": "code",
   "execution_count": 12,
   "metadata": {},
   "outputs": [
    {
     "name": "stdout",
     "output_type": "stream",
     "text": [
      "False    853\n",
      "True     317\n",
      "Name: Other, dtype: int64\n"
     ]
    },
    {
     "data": {
      "text/plain": [
       "<matplotlib.axes._subplots.AxesSubplot at 0x7ffa3f3e4cd0>"
      ]
     },
     "execution_count": 12,
     "metadata": {},
     "output_type": "execute_result"
    },
    {
     "data": {
      "image/png": "[encoded data removed]",
      "text/plain": [
       "<Figure size 432x288 with 1 Axes>"
      ]
     },
     "metadata": {
      "needs_background": "light"
     },
     "output_type": "display_data"
    }
   ],
   "source": [
    "fig, ax = plt.subplots()\n",
    "print(df['Other'].value_counts())\n",
    "df['Other'].value_counts().plot(ax=ax, kind='bar')"
   ]
  },
  {
   "cell_type": "code",
   "execution_count": 13,
   "metadata": {},
   "outputs": [
    {
     "name": "stdout",
     "output_type": "stream",
     "text": [
      "Naive bayes\n",
      "              precision    recall  f1-score   support\n",
      "\n",
      "           0       0.75      1.00      0.86       265\n",
      "           1       0.00      0.00      0.00        86\n",
      "\n",
      "    accuracy                           0.75       351\n",
      "   macro avg       0.38      0.50      0.43       351\n",
      "weighted avg       0.57      0.75      0.65       351\n",
      "\n",
      "SVM\n"
     ]
    },
    {
     "name": "stderr",
     "output_type": "stream",
     "text": [
      "/Users/shahreenshahjahanpsyche/opt/anaconda3/lib/python3.7/site-packages/sklearn/metrics/classification.py:1437: UndefinedMetricWarning: Precision and F-score are ill-defined and being set to 0.0 in labels with no predicted samples.\n",
      "  'precision', 'predicted', average, warn_for)\n"
     ]
    },
    {
     "name": "stdout",
     "output_type": "stream",
     "text": [
      "              precision    recall  f1-score   support\n",
      "\n",
      "           0       0.81      0.94      0.87       265\n",
      "           1       0.62      0.30      0.41        86\n",
      "\n",
      "    accuracy                           0.78       351\n",
      "   macro avg       0.71      0.62      0.64       351\n",
      "weighted avg       0.76      0.78      0.75       351\n",
      "\n"
     ]
    }
   ],
   "source": [
    "model(df, 'Other')"
   ]
  },
  {
   "cell_type": "code",
   "execution_count": null,
   "metadata": {},
   "outputs": [],
   "source": []
  },
  {
   "cell_type": "code",
   "execution_count": null,
   "metadata": {},
   "outputs": [],
   "source": []
  }
 ],
 "metadata": {
  "kernelspec": {
   "display_name": "Python 3",
   "language": "python",
   "name": "python3"
  },
  "language_info": {
   "codemirror_mode": {
    "name": "ipython",
    "version": 3
   },
   "file_extension": ".py",
   "mimetype": "text/x-python",
   "name": "python",
   "nbconvert_exporter": "python",
   "pygments_lexer": "ipython3",
   "version": "3.7.4"
  }
 },
 "nbformat": 4,
 "nbformat_minor": 2
}
